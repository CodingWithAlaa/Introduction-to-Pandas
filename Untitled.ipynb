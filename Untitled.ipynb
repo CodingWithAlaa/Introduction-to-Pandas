{
 "cells": [
  {
   "cell_type": "code",
   "execution_count": 1,
   "id": "b6dfd5b5-ec33-4c6b-a37e-e140ad94a5b6",
   "metadata": {},
   "outputs": [
    {
     "name": "stdout",
     "output_type": "stream",
     "text": [
      "0    10\n",
      "1    20\n",
      "2    30\n",
      "3    40\n",
      "4    50\n",
      "dtype: int64\n"
     ]
    }
   ],
   "source": [
    "import pandas as pd # Import pandas library and assign it the alias 'pd'\n",
    "series=pd.Series([10,20,30,40,50])   # Create a pandas Series from a list\n",
    "print(series)  # Print the Series"
   ]
  },
  {
   "cell_type": "code",
   "execution_count": 3,
   "id": "4d468af8-a770-4996-a173-600cfadfdec8",
   "metadata": {},
   "outputs": [
    {
     "name": "stdout",
     "output_type": "stream",
     "text": [
      "      Name  Age         City\n",
      "0    Alice   25     New York\n",
      "1      Bob   30  Los Angeles\n",
      "2  Charlie   35      Chicago\n"
     ]
    }
   ],
   "source": [
    "import pandas as pd  # Import pandas library and assign it the alias 'pd'\n",
    "\n",
    "# Define a dictionary 'data' that contains lists of values for each column\n",
    "data = {\n",
    "    \"Name\": [\"Alice\", \"Bob\", \"Charlie\"],  # List of names\n",
    "    \"Age\": [25, 30, 35],                  # List of ages\n",
    "    \"City\": [\"New York\", \"Los Angeles\", \"Chicago\"]  # List of cities\n",
    "}\n",
    "\n",
    "# Create a DataFrame using the data dictionary\n",
    "df = pd.DataFrame(data)\n",
    "\n",
    "# Print the DataFrame\n",
    "print(df)\n",
    "\n",
    "\n"
   ]
  },
  {
   "cell_type": "code",
   "execution_count": 3,
   "id": "51333f1d-830a-422d-a0a2-88d2f61299f9",
   "metadata": {},
   "outputs": [
    {
     "name": "stdout",
     "output_type": "stream",
     "text": [
      "      Name  Age         City\n",
      "0    Alice   25     New York\n",
      "1      Bob   30  Los Angeles\n",
      "2  Charlie   35      Chicago\n"
     ]
    }
   ],
   "source": [
    "print(df.head())  # Print the first  rows of the DataFrame"
   ]
  },
  {
   "cell_type": "code",
   "execution_count": 4,
   "id": "6f5b14b9-4ba8-4d12-ab48-407a7375630f",
   "metadata": {},
   "outputs": [
    {
     "name": "stdout",
     "output_type": "stream",
     "text": [
      "<class 'pandas.core.frame.DataFrame'>\n",
      "RangeIndex: 3 entries, 0 to 2\n",
      "Data columns (total 3 columns):\n",
      " #   Column  Non-Null Count  Dtype \n",
      "---  ------  --------------  ----- \n",
      " 0   Name    3 non-null      object\n",
      " 1   Age     3 non-null      int64 \n",
      " 2   City    3 non-null      object\n",
      "dtypes: int64(1), object(2)\n",
      "memory usage: 204.0+ bytes\n"
     ]
    }
   ],
   "source": [
    "df.info()   #display the Dataframe summary information "
   ]
  },
  {
   "cell_type": "code",
   "execution_count": 5,
   "id": "da096e0a-d2eb-4108-a92d-c0d3ba973795",
   "metadata": {},
   "outputs": [
    {
     "data": {
      "text/html": [
       "<div>\n",
       "<style scoped>\n",
       "    .dataframe tbody tr th:only-of-type {\n",
       "        vertical-align: middle;\n",
       "    }\n",
       "\n",
       "    .dataframe tbody tr th {\n",
       "        vertical-align: top;\n",
       "    }\n",
       "\n",
       "    .dataframe thead th {\n",
       "        text-align: right;\n",
       "    }\n",
       "</style>\n",
       "<table border=\"1\" class=\"dataframe\">\n",
       "  <thead>\n",
       "    <tr style=\"text-align: right;\">\n",
       "      <th></th>\n",
       "      <th>Age</th>\n",
       "    </tr>\n",
       "  </thead>\n",
       "  <tbody>\n",
       "    <tr>\n",
       "      <th>count</th>\n",
       "      <td>3.0</td>\n",
       "    </tr>\n",
       "    <tr>\n",
       "      <th>mean</th>\n",
       "      <td>30.0</td>\n",
       "    </tr>\n",
       "    <tr>\n",
       "      <th>std</th>\n",
       "      <td>5.0</td>\n",
       "    </tr>\n",
       "    <tr>\n",
       "      <th>min</th>\n",
       "      <td>25.0</td>\n",
       "    </tr>\n",
       "    <tr>\n",
       "      <th>25%</th>\n",
       "      <td>27.5</td>\n",
       "    </tr>\n",
       "    <tr>\n",
       "      <th>50%</th>\n",
       "      <td>30.0</td>\n",
       "    </tr>\n",
       "    <tr>\n",
       "      <th>75%</th>\n",
       "      <td>32.5</td>\n",
       "    </tr>\n",
       "    <tr>\n",
       "      <th>max</th>\n",
       "      <td>35.0</td>\n",
       "    </tr>\n",
       "  </tbody>\n",
       "</table>\n",
       "</div>"
      ],
      "text/plain": [
       "        Age\n",
       "count   3.0\n",
       "mean   30.0\n",
       "std     5.0\n",
       "min    25.0\n",
       "25%    27.5\n",
       "50%    30.0\n",
       "75%    32.5\n",
       "max    35.0"
      ]
     },
     "execution_count": 5,
     "metadata": {},
     "output_type": "execute_result"
    }
   ],
   "source": [
    "df.describe()  #get the descriptive statistics"
   ]
  },
  {
   "cell_type": "code",
   "execution_count": 6,
   "id": "91794fb1-97e4-4d5e-8aee-d438e7be348a",
   "metadata": {},
   "outputs": [
    {
     "name": "stdout",
     "output_type": "stream",
     "text": [
      "0      Alice\n",
      "1        Bob\n",
      "2    Charlie\n",
      "Name: Name, dtype: object\n"
     ]
    }
   ],
   "source": [
    "print(df['Name'])  # Print the 'Name' column"
   ]
  },
  {
   "cell_type": "code",
   "execution_count": 7,
   "id": "146ee6a3-6c5b-46b1-815b-974e5b0fb924",
   "metadata": {},
   "outputs": [
    {
     "name": "stdout",
     "output_type": "stream",
     "text": [
      "      Name  Age     City\n",
      "2  Charlie   35  Chicago\n"
     ]
    }
   ],
   "source": [
    "# Filter the DataFrame where 'Age' > 30\n",
    "filtered_df = df[df[\"Age\"] > 30]\n",
    "# Print the filtered DataFrame\n",
    "print(filtered_df)"
   ]
  },
  {
   "cell_type": "code",
   "execution_count": 8,
   "id": "dcc565d2-ddcc-4aff-87b9-d372d6ea81ad",
   "metadata": {},
   "outputs": [
    {
     "name": "stdout",
     "output_type": "stream",
     "text": [
      "    Name         City\n",
      "0  Alice     New York\n",
      "1    Bob  Los Angeles\n"
     ]
    }
   ],
   "source": [
    "# Select specific rows and columns using .loc\n",
    "selected_data = df.loc[[0, 1], [\"Name\", \"City\"]]\n",
    "# Print the selected data\n",
    "print(selected_data)"
   ]
  },
  {
   "cell_type": "code",
   "execution_count": 9,
   "id": "c42ebd80-651b-4092-bff0-d069169e7a6e",
   "metadata": {},
   "outputs": [
    {
     "data": {
      "text/html": [
       "<div>\n",
       "<style scoped>\n",
       "    .dataframe tbody tr th:only-of-type {\n",
       "        vertical-align: middle;\n",
       "    }\n",
       "\n",
       "    .dataframe tbody tr th {\n",
       "        vertical-align: top;\n",
       "    }\n",
       "\n",
       "    .dataframe thead th {\n",
       "        text-align: right;\n",
       "    }\n",
       "</style>\n",
       "<table border=\"1\" class=\"dataframe\">\n",
       "  <thead>\n",
       "    <tr style=\"text-align: right;\">\n",
       "      <th></th>\n",
       "      <th>Name</th>\n",
       "      <th>Age</th>\n",
       "      <th>City</th>\n",
       "    </tr>\n",
       "  </thead>\n",
       "  <tbody>\n",
       "    <tr>\n",
       "      <th>0</th>\n",
       "      <td>Alice</td>\n",
       "      <td>25</td>\n",
       "      <td>New York</td>\n",
       "    </tr>\n",
       "    <tr>\n",
       "      <th>1</th>\n",
       "      <td>Bob</td>\n",
       "      <td>30</td>\n",
       "      <td>Los Angeles</td>\n",
       "    </tr>\n",
       "    <tr>\n",
       "      <th>2</th>\n",
       "      <td>Charlie</td>\n",
       "      <td>35</td>\n",
       "      <td>Chicago</td>\n",
       "    </tr>\n",
       "  </tbody>\n",
       "</table>\n",
       "</div>"
      ],
      "text/plain": [
       "      Name  Age         City\n",
       "0    Alice   25     New York\n",
       "1      Bob   30  Los Angeles\n",
       "2  Charlie   35      Chicago"
      ]
     },
     "execution_count": 9,
     "metadata": {},
     "output_type": "execute_result"
    }
   ],
   "source": [
    "df  #display the dataframe"
   ]
  },
  {
   "cell_type": "code",
   "execution_count": 10,
   "id": "fcdd6beb-a3df-465f-892c-44cea5616ab0",
   "metadata": {},
   "outputs": [
    {
     "name": "stdout",
     "output_type": "stream",
     "text": [
      "      Name      City\n",
      "0    Alice  New York\n",
      "2  Charlie   Chicago\n"
     ]
    }
   ],
   "source": [
    "# Select specific rows (0 and 2) and columns ('Name' and 'City')\n",
    "selected_data = df.loc[[0, 2], [\"Name\", \"City\"]]\n",
    "# Print the selected data\n",
    "print(selected_data)"
   ]
  },
  {
   "cell_type": "code",
   "execution_count": 11,
   "id": "e05bb2f4-48f0-4861-9091-84331724f9c5",
   "metadata": {},
   "outputs": [
    {
     "name": "stdout",
     "output_type": "stream",
     "text": [
      "      Name     City\n",
      "2  Charlie  Chicago\n"
     ]
    }
   ],
   "source": [
    "# Filter the DataFrame where 'Age' > 30 and select 'Name' and 'City' columns\n",
    "filtered_data = df.loc[df[\"Age\"] > 30, [\"Name\", \"City\"]]\n",
    "# Print the filtered data\n",
    "print(filtered_data)"
   ]
  },
  {
   "cell_type": "code",
   "execution_count": 12,
   "id": "d598fcaf-7195-4e03-b33d-2ed8dacf99d7",
   "metadata": {},
   "outputs": [
    {
     "name": "stdout",
     "output_type": "stream",
     "text": [
      "    Name  Age\n",
      "0  Alice   25\n",
      "1    Bob   30\n"
     ]
    }
   ],
   "source": [
    "# Use .iloc to select the first two rows and the first two columns\n",
    "selected_data = df.iloc[0:2, 0:2]\n",
    "# Print the selected data\n",
    "print(selected_data)"
   ]
  },
  {
   "cell_type": "code",
   "execution_count": 14,
   "id": "23a1bc6d-7f36-4da0-862d-7cdcf18cd4ec",
   "metadata": {},
   "outputs": [
    {
     "name": "stdout",
     "output_type": "stream",
     "text": [
      "      Name  Age         City  Salary\n",
      "0    Alice   25     New York   50000\n",
      "1      Bob   30  Los Angeles   60000\n",
      "2  Charlie   35      Chicago   70000\n"
     ]
    }
   ],
   "source": [
    "ٍ# Add a new column 'Salary'\n",
    "df[\"Salary\"] = [50000, 60000, 70000]\n",
    "# Print the updated DataFrame\n",
    "print(df)\n"
   ]
  },
  {
   "cell_type": "code",
   "execution_count": 16,
   "id": "f8c4a95c-1f1e-4110-8b1c-b80bd9c6c3ed",
   "metadata": {},
   "outputs": [
    {
     "name": "stdout",
     "output_type": "stream",
     "text": [
      "      Name  Age         City  Salary\n",
      "0    Alice   26     New York   50000\n",
      "1      Bob   31  Los Angeles   60000\n",
      "2  Charlie   36      Chicago   70000\n"
     ]
    }
   ],
   "source": [
    "# Add 1 to each value in the 'Age' column\n",
    "df['Age'] = df['Age']+1\n",
    "# Print the updated DataFrame\n",
    "print(df)"
   ]
  },
  {
   "cell_type": "code",
   "execution_count": 27,
   "id": "a66dcff3-870c-43a5-8456-47dfb7313426",
   "metadata": {},
   "outputs": [
    {
     "ename": "TypeError",
     "evalue": "'method' object is not subscriptable",
     "output_type": "error",
     "traceback": [
      "\u001b[1;31m---------------------------------------------------------------------------\u001b[0m",
      "\u001b[1;31mTypeError\u001b[0m                                 Traceback (most recent call last)",
      "Cell \u001b[1;32mIn[27], line 1\u001b[0m\n\u001b[1;32m----> 1\u001b[0m df \u001b[38;5;241m=\u001b[39m df\u001b[38;5;241m.\u001b[39mdrop[\u001b[38;5;124m'\u001b[39m\u001b[38;5;124mCity\u001b[39m\u001b[38;5;124m'\u001b[39m ]\n\u001b[0;32m      2\u001b[0m \u001b[38;5;28mprint\u001b[39m(df)\n",
      "\u001b[1;31mTypeError\u001b[0m: 'method' object is not subscriptable"
     ]
    }
   ],
   "source": [
    "df = df.drop['City' ]\n",
    "print(df)"
   ]
  },
  {
   "cell_type": "code",
   "execution_count": 28,
   "id": "440ab977-9bff-4cb8-93ca-b1f1da6a0af4",
   "metadata": {},
   "outputs": [
    {
     "name": "stdout",
     "output_type": "stream",
     "text": [
      "       A      B\n",
      "0  False  False\n",
      "1  False   True\n",
      "2   True  False\n"
     ]
    }
   ],
   "source": [
    "# Create a DataFrame with NaN values\n",
    "df_with_nan = pd.DataFrame({'A' :[1,2, None ],'B': [4,None,6]})\n",
    "# Check for NaN (null) values\n",
    "print(df_with_nan.isnull())"
   ]
  },
  {
   "cell_type": "code",
   "execution_count": 29,
   "id": "010ab7af-5b5b-4502-b75e-e37406a7b1a9",
   "metadata": {},
   "outputs": [
    {
     "data": {
      "text/html": [
       "<div>\n",
       "<style scoped>\n",
       "    .dataframe tbody tr th:only-of-type {\n",
       "        vertical-align: middle;\n",
       "    }\n",
       "\n",
       "    .dataframe tbody tr th {\n",
       "        vertical-align: top;\n",
       "    }\n",
       "\n",
       "    .dataframe thead th {\n",
       "        text-align: right;\n",
       "    }\n",
       "</style>\n",
       "<table border=\"1\" class=\"dataframe\">\n",
       "  <thead>\n",
       "    <tr style=\"text-align: right;\">\n",
       "      <th></th>\n",
       "      <th>A</th>\n",
       "      <th>B</th>\n",
       "    </tr>\n",
       "  </thead>\n",
       "  <tbody>\n",
       "    <tr>\n",
       "      <th>0</th>\n",
       "      <td>1.0</td>\n",
       "      <td>NaN</td>\n",
       "    </tr>\n",
       "    <tr>\n",
       "      <th>1</th>\n",
       "      <td>2.0</td>\n",
       "      <td>NaN</td>\n",
       "    </tr>\n",
       "    <tr>\n",
       "      <th>2</th>\n",
       "      <td>NaN</td>\n",
       "      <td>6.0</td>\n",
       "    </tr>\n",
       "  </tbody>\n",
       "</table>\n",
       "</div>"
      ],
      "text/plain": [
       "     A    B\n",
       "0  1.0  NaN\n",
       "1  2.0  NaN\n",
       "2  NaN  6.0"
      ]
     },
     "execution_count": 29,
     "metadata": {},
     "output_type": "execute_result"
    }
   ],
   "source": [
    "# Create a DataFrame with NaN values\n",
    "df_with_nan = pd.DataFrame({'A' :[1,2, None ],'B': [None,None,6]})\n",
    "# Display the DataFrame\n",
    "df_with_nan"
   ]
  },
  {
   "cell_type": "code",
   "execution_count": 30,
   "id": "42954e97-3abd-40c3-b701-942b67db3530",
   "metadata": {},
   "outputs": [
    {
     "data": {
      "text/html": [
       "<div>\n",
       "<style scoped>\n",
       "    .dataframe tbody tr th:only-of-type {\n",
       "        vertical-align: middle;\n",
       "    }\n",
       "\n",
       "    .dataframe tbody tr th {\n",
       "        vertical-align: top;\n",
       "    }\n",
       "\n",
       "    .dataframe thead th {\n",
       "        text-align: right;\n",
       "    }\n",
       "</style>\n",
       "<table border=\"1\" class=\"dataframe\">\n",
       "  <thead>\n",
       "    <tr style=\"text-align: right;\">\n",
       "      <th></th>\n",
       "      <th>A</th>\n",
       "      <th>B</th>\n",
       "    </tr>\n",
       "  </thead>\n",
       "  <tbody>\n",
       "    <tr>\n",
       "      <th>0</th>\n",
       "      <td>False</td>\n",
       "      <td>True</td>\n",
       "    </tr>\n",
       "    <tr>\n",
       "      <th>1</th>\n",
       "      <td>False</td>\n",
       "      <td>True</td>\n",
       "    </tr>\n",
       "    <tr>\n",
       "      <th>2</th>\n",
       "      <td>True</td>\n",
       "      <td>False</td>\n",
       "    </tr>\n",
       "  </tbody>\n",
       "</table>\n",
       "</div>"
      ],
      "text/plain": [
       "       A      B\n",
       "0  False   True\n",
       "1  False   True\n",
       "2   True  False"
      ]
     },
     "execution_count": 30,
     "metadata": {},
     "output_type": "execute_result"
    }
   ],
   "source": [
    "df_with_nan.isnull() # Check for NaN (null) values"
   ]
  },
  {
   "cell_type": "code",
   "execution_count": 33,
   "id": "d73a97eb-50c1-4c97-a4eb-b4b086193e26",
   "metadata": {},
   "outputs": [
    {
     "name": "stdout",
     "output_type": "stream",
     "text": [
      "      Name  Age Grade\n",
      "a    Alice   20     A\n",
      "b      Bob   22     B\n",
      "c  Charlie   23     A\n",
      "d    David   21     C\n"
     ]
    }
   ],
   "source": [
    "\n",
    "\n",
    "# Sample dictionary\n",
    "student_dict = {\n",
    "    'Name': ['Alice', 'Bob', 'Charlie', 'David'],\n",
    "    'Age': [20, 22, 23, 21],\n",
    "    'Grade': ['A', 'B', 'A', 'C']\n",
    "}\n",
    "\n",
    "# Create a DataFrame with a custom index\n",
    "student_df = pd.DataFrame(student_dict, index=['a', 'b', 'c', 'd'])\n",
    "\n",
    "# Display the DataFrame\n",
    "print(student_df)\n",
    "\n"
   ]
  },
  {
   "cell_type": "code",
   "execution_count": 34,
   "id": "53efee65-6ca5-4033-81a6-ff20b4ff312f",
   "metadata": {},
   "outputs": [
    {
     "data": {
      "text/html": [
       "<div>\n",
       "<style scoped>\n",
       "    .dataframe tbody tr th:only-of-type {\n",
       "        vertical-align: middle;\n",
       "    }\n",
       "\n",
       "    .dataframe tbody tr th {\n",
       "        vertical-align: top;\n",
       "    }\n",
       "\n",
       "    .dataframe thead th {\n",
       "        text-align: right;\n",
       "    }\n",
       "</style>\n",
       "<table border=\"1\" class=\"dataframe\">\n",
       "  <thead>\n",
       "    <tr style=\"text-align: right;\">\n",
       "      <th></th>\n",
       "      <th>Name</th>\n",
       "      <th>Age</th>\n",
       "      <th>Grade</th>\n",
       "    </tr>\n",
       "  </thead>\n",
       "  <tbody>\n",
       "    <tr>\n",
       "      <th>a</th>\n",
       "      <td>Alice</td>\n",
       "      <td>20</td>\n",
       "      <td>A</td>\n",
       "    </tr>\n",
       "    <tr>\n",
       "      <th>b</th>\n",
       "      <td>Bob</td>\n",
       "      <td>22</td>\n",
       "      <td>B</td>\n",
       "    </tr>\n",
       "    <tr>\n",
       "      <th>c</th>\n",
       "      <td>Charlie</td>\n",
       "      <td>23</td>\n",
       "      <td>A</td>\n",
       "    </tr>\n",
       "    <tr>\n",
       "      <th>d</th>\n",
       "      <td>David</td>\n",
       "      <td>21</td>\n",
       "      <td>C</td>\n",
       "    </tr>\n",
       "  </tbody>\n",
       "</table>\n",
       "</div>"
      ],
      "text/plain": [
       "      Name  Age Grade\n",
       "a    Alice   20     A\n",
       "b      Bob   22     B\n",
       "c  Charlie   23     A\n",
       "d    David   21     C"
      ]
     },
     "execution_count": 34,
     "metadata": {},
     "output_type": "execute_result"
    }
   ],
   "source": [
    "student_df.fillna(0)"
   ]
  },
  {
   "cell_type": "code",
   "execution_count": 35,
   "id": "7bcf92a2-3be1-4328-8eaa-6f0fc7a2a0b3",
   "metadata": {},
   "outputs": [
    {
     "data": {
      "text/html": [
       "<div>\n",
       "<style scoped>\n",
       "    .dataframe tbody tr th:only-of-type {\n",
       "        vertical-align: middle;\n",
       "    }\n",
       "\n",
       "    .dataframe tbody tr th {\n",
       "        vertical-align: top;\n",
       "    }\n",
       "\n",
       "    .dataframe thead th {\n",
       "        text-align: right;\n",
       "    }\n",
       "</style>\n",
       "<table border=\"1\" class=\"dataframe\">\n",
       "  <thead>\n",
       "    <tr style=\"text-align: right;\">\n",
       "      <th></th>\n",
       "      <th>A</th>\n",
       "      <th>B</th>\n",
       "    </tr>\n",
       "  </thead>\n",
       "  <tbody>\n",
       "    <tr>\n",
       "      <th>0</th>\n",
       "      <td>1.0</td>\n",
       "      <td>NaN</td>\n",
       "    </tr>\n",
       "    <tr>\n",
       "      <th>1</th>\n",
       "      <td>2.0</td>\n",
       "      <td>NaN</td>\n",
       "    </tr>\n",
       "    <tr>\n",
       "      <th>2</th>\n",
       "      <td>1.5</td>\n",
       "      <td>6.0</td>\n",
       "    </tr>\n",
       "  </tbody>\n",
       "</table>\n",
       "</div>"
      ],
      "text/plain": [
       "     A    B\n",
       "0  1.0  NaN\n",
       "1  2.0  NaN\n",
       "2  1.5  6.0"
      ]
     },
     "execution_count": 35,
     "metadata": {},
     "output_type": "execute_result"
    }
   ],
   "source": [
    "# Fill NaN in column 'A' with the mean of column 'A'\n",
    "df_with_nan ['A']= df_with_nan['A'].fillna(df_with_nan['A'].mean())\n",
    "# Display the updated DataFrame\n",
    "df_with_nan"
   ]
  },
  {
   "cell_type": "code",
   "execution_count": 36,
   "id": "4b64dca7-7a76-4bec-a088-dee2a552f2ad",
   "metadata": {},
   "outputs": [
    {
     "data": {
      "text/html": [
       "<div>\n",
       "<style scoped>\n",
       "    .dataframe tbody tr th:only-of-type {\n",
       "        vertical-align: middle;\n",
       "    }\n",
       "\n",
       "    .dataframe tbody tr th {\n",
       "        vertical-align: top;\n",
       "    }\n",
       "\n",
       "    .dataframe thead th {\n",
       "        text-align: right;\n",
       "    }\n",
       "</style>\n",
       "<table border=\"1\" class=\"dataframe\">\n",
       "  <thead>\n",
       "    <tr style=\"text-align: right;\">\n",
       "      <th></th>\n",
       "      <th>A</th>\n",
       "      <th>B</th>\n",
       "    </tr>\n",
       "  </thead>\n",
       "  <tbody>\n",
       "    <tr>\n",
       "      <th>0</th>\n",
       "      <td>1.0</td>\n",
       "      <td>6.0</td>\n",
       "    </tr>\n",
       "    <tr>\n",
       "      <th>1</th>\n",
       "      <td>2.0</td>\n",
       "      <td>6.0</td>\n",
       "    </tr>\n",
       "    <tr>\n",
       "      <th>2</th>\n",
       "      <td>1.5</td>\n",
       "      <td>6.0</td>\n",
       "    </tr>\n",
       "  </tbody>\n",
       "</table>\n",
       "</div>"
      ],
      "text/plain": [
       "     A    B\n",
       "0  1.0  6.0\n",
       "1  2.0  6.0\n",
       "2  1.5  6.0"
      ]
     },
     "execution_count": 36,
     "metadata": {},
     "output_type": "execute_result"
    }
   ],
   "source": [
    "# Fill NaN in column 'B' with the mean of column 'B'\n",
    "df_with_nan ['B']= df_with_nan['B'].fillna(df_with_nan['B'].mean())\n",
    "# Display the updated DataFrame\n",
    "df_with_nan"
   ]
  },
  {
   "cell_type": "code",
   "execution_count": 40,
   "id": "d7313d0d-4eda-473a-b209-a4b5daf8daf3",
   "metadata": {},
   "outputs": [
    {
     "name": "stdout",
     "output_type": "stream",
     "text": [
      "    Name   Age  Marks\n",
      "a    Joe  20.0    NaN\n",
      "b    Ali   NaN    NaN\n",
      "c  Baraa  40.0   95.0\n",
      "d   Tala  35.0   80.0\n"
     ]
    }
   ],
   "source": [
    "student_dict = {\n",
    "    'Name': ['Joe', 'Ali', 'Baraa', 'Tala'],\n",
    "    'Age': [20, None, 40, 35],\n",
    "    'Marks': [None, None, 95, 80]\n",
    "}\n",
    "\n",
    "# Create DataFrame from the dictionary with custom index\n",
    "student_df = pd.DataFrame(student_dict, index=['a', 'b', 'c', 'd'])\n",
    "\n",
    "# Display the DataFrame\n",
    "print(student_df)\n"
   ]
  },
  {
   "cell_type": "code",
   "execution_count": 42,
   "id": "113a2f6e-e0c2-478b-9a80-22a4e113ae6a",
   "metadata": {},
   "outputs": [
    {
     "data": {
      "text/plain": [
       "87.5"
      ]
     },
     "execution_count": 42,
     "metadata": {},
     "output_type": "execute_result"
    }
   ],
   "source": [
    "student_df[\"Marks\"].mean()"
   ]
  },
  {
   "cell_type": "code",
   "execution_count": 43,
   "id": "1a8fc600-eb21-4fcf-b65f-bec04cfd6c7b",
   "metadata": {},
   "outputs": [
    {
     "data": {
      "text/plain": [
       "a    87.5\n",
       "b    87.5\n",
       "c    95.0\n",
       "d    80.0\n",
       "Name: Marks, dtype: float64"
      ]
     },
     "execution_count": 43,
     "metadata": {},
     "output_type": "execute_result"
    }
   ],
   "source": [
    "student_df[\"Marks\"].fillna(student_df[\"Marks\"].mean())"
   ]
  },
  {
   "cell_type": "code",
   "execution_count": 45,
   "id": "980f5b17-7d0c-4509-803e-575fbf6fa7b1",
   "metadata": {},
   "outputs": [
    {
     "name": "stdout",
     "output_type": "stream",
     "text": [
      "     A    B\n",
      "0  1.0  6.0\n",
      "1  2.0  6.0\n",
      "2  1.5  6.0\n"
     ]
    }
   ],
   "source": [
    "# Drop rows with any NaN values\n",
    "cleaned_df = df_with_nan.dropna()\n",
    "# Display the cleaned DataFrame\n",
    "print(cleaned_df)"
   ]
  },
  {
   "cell_type": "code",
   "execution_count": 49,
   "id": "5613d8e9-2e2b-4fcf-b60a-eb7b6a76e98a",
   "metadata": {},
   "outputs": [
    {
     "name": "stdout",
     "output_type": "stream",
     "text": [
      "  Name  Salary  Double Salary\n",
      "0   HR   50000         100000\n",
      "1   IT   60000         120000\n",
      "2   HR   70000         140000\n",
      "3   IT   80000         160000\n"
     ]
    }
   ],
   "source": [
    "\n",
    "\n",
    "# Sample DataFrame creation\n",
    "data = {'Name': ['HR', 'IT', 'HR', 'IT'],\n",
    "        'Salary': [50000, 60000, 70000, 80000]}\n",
    "\n",
    "df = pd.DataFrame(data)\n",
    "\n",
    "# Define the custom function to double the salary\n",
    "def double_salary(x):\n",
    "    return x * 2\n",
    "\n",
    "# Apply the function to the 'Salary' column\n",
    "df['Double Salary'] = df['Salary'].apply(double_salary)\n",
    "\n",
    "# Print the updated DataFrame\n",
    "print(df)\n"
   ]
  },
  {
   "cell_type": "code",
   "execution_count": 53,
   "id": "9c35faa2-b750-42ff-b0cd-a7af40fb6c13",
   "metadata": {},
   "outputs": [
    {
     "name": "stdout",
     "output_type": "stream",
     "text": [
      "      Name     Sex  Age  Bool_Male\n",
      "0    Alice  female   25          0\n",
      "1      Bob    male   30          1\n",
      "2  Charlie    male   35          1\n",
      "3    David  female   40          0\n"
     ]
    }
   ],
   "source": [
    "\n",
    "\n",
    "# Sample DataFrame df_age_sex\n",
    "data = {'Name': ['Alice', 'Bob', 'Charlie', 'David'],\n",
    "        'Sex': ['female', 'male', 'male', 'female'],\n",
    "        'Age': [25, 30, 35, 40]}\n",
    "\n",
    "df_age_sex = pd.DataFrame(data)\n",
    "\n",
    "# Define the custom function to convert gender to a boolean\n",
    "def Get_Gender_Bool(gender):\n",
    "    if gender == \"male\":\n",
    "        return 1\n",
    "    else:\n",
    "        return 0\n",
    "\n",
    "# Apply the function to the 'Sex' column\n",
    "df_age_sex[\"Bool_Male\"] = df_age_sex[\"Sex\"].apply(Get_Gender_Bool)\n",
    "\n",
    "# Print the updated DataFrame\n",
    "print(df_age_sex)\n"
   ]
  },
  {
   "cell_type": "code",
   "execution_count": 56,
   "id": "22771ae5-1402-47a5-a1c3-143f35649d27",
   "metadata": {},
   "outputs": [
    {
     "name": "stdout",
     "output_type": "stream",
     "text": [
      "              Name  Age Title\n",
      "0   Mr. John Smith   34   Mr.\n",
      "1  Dr. Alice Brown   29   Dr.\n",
      "2      Mr. Bob Lee   42   Mr.\n",
      "3   Ms. Clara Jane   31   Ms.\n"
     ]
    }
   ],
   "source": [
    "\n",
    "\n",
    "# Sample DataFrame\n",
    "data = {'Name': ['Mr. John Smith', 'Dr. Alice Brown', 'Mr. Bob Lee', 'Ms. Clara Jane'],\n",
    "        'Age': [34, 29, 42, 31]}\n",
    "\n",
    "df_name_age = pd.DataFrame(data)\n",
    "\n",
    "# Define the custom function to extract the title\n",
    "def Get_Title(name):\n",
    "    parsed_name = name.split(\" \")\n",
    "    # Handle cases where the name doesn't have a title (e.g., single-part names)\n",
    "    if len(parsed_name) > 1:\n",
    "        return parsed_name[0]  # First part is the title\n",
    "    else:\n",
    "        return None  # Return None if there is no title\n",
    "\n",
    "# Apply the function to the 'Name' column\n",
    "df_name_age[\"Title\"] = df_name_age[\"Name\"].apply(Get_Title)\n",
    "\n",
    "# Display the updated DataFrame\n",
    "print(df_name_age)\n"
   ]
  },
  {
   "cell_type": "code",
   "execution_count": 58,
   "id": "f9319281-f68a-4678-80db-42aff41674c0",
   "metadata": {},
   "outputs": [
    {
     "name": "stdout",
     "output_type": "stream",
     "text": [
      "             Salary\n",
      "Department         \n",
      "HR          60000.0\n",
      "IT          70000.0\n"
     ]
    }
   ],
   "source": [
    "\n",
    "df = pd.DataFrame({\n",
    "    'Name': ['HR', 'IT', 'HR', 'IT'],\n",
    "    'Salary': [50000, 60000, 70000, 80000]\n",
    "})\n",
    "\n",
    "\n",
    "df.rename(columns={'Name': 'Department'}, inplace=True)\n",
    "\n",
    "\n",
    "grouped = df.groupby('Department').mean()\n",
    "\n",
    "\n",
    "print(grouped)\n",
    "\n"
   ]
  },
  {
   "cell_type": "code",
   "execution_count": null,
   "id": "5b5e6a8d-b228-40be-aed7-0ddfc932b4d3",
   "metadata": {},
   "outputs": [],
   "source": [
    "\n",
    "df = pd.DataFrame({\n",
    "    'Department': ['HR', 'IT', 'HR', 'IT'],\n",
    "    'Salary': [50000, 60000, 70000, 80000]\n",
    "})\n",
    "\n",
    "\n",
    "average_salary_by_dept = df.groupby('Department')['Salary'].mean()\n",
    "\n",
    "\n",
    "print(\"Average Salary by Department:\\n\")\n",
    "print(average_salary_by_dept.head())  \n"
   ]
  },
  {
   "cell_type": "code",
   "execution_count": null,
   "id": "e97316f7-5acc-4fce-9bce-10444be5bb20",
   "metadata": {},
   "outputs": [],
   "source": []
  }
 ],
 "metadata": {
  "kernelspec": {
   "display_name": "Python 3 (ipykernel)",
   "language": "python",
   "name": "python3"
  },
  "language_info": {
   "codemirror_mode": {
    "name": "ipython",
    "version": 3
   },
   "file_extension": ".py",
   "mimetype": "text/x-python",
   "name": "python",
   "nbconvert_exporter": "python",
   "pygments_lexer": "ipython3",
   "version": "3.12.7"
  }
 },
 "nbformat": 4,
 "nbformat_minor": 5
}
